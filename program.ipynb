# -*- coding: utf-8 -*-
language = int(input('Enter 0 for Japanese or 1 for English.　'))#言語選択

if language == 0:#日本語
  print('答えは',int(input('足される数字は？　'))+int(input('足す数字は？　')),'です')#日本語で計算結果を表示
elif language == 1:#英語
  print('The answer is',int(input('What is the number that is added?　'))+int(input('What is the number to add?　')),'.')#View calculation results in English
else:#その他
  print('その言語はサポートされていません')#エラー(Error)
#プログラムの終了
